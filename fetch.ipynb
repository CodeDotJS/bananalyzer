{
 "cells": [
  {
   "cell_type": "code",
   "execution_count": null,
   "outputs": [],
   "source": [
    "# Basic notebook to fetch the mhtml of a page and add it to example data"
   ],
   "metadata": {
    "collapsed": false
   }
  },
  {
   "cell_type": "code",
   "execution_count": 38,
   "metadata": {},
   "outputs": [],
   "source": [
    "import os\n",
    "import urllib.parse\n",
    "import uuid\n",
    "\n",
    "from playwright.async_api import async_playwright"
   ]
  },
  {
   "cell_type": "code",
   "execution_count": 39,
   "metadata": {},
   "outputs": [],
   "source": [
    "# Setup a playwright instance. We need to do this to access the dev tool functions\n",
    "p = await async_playwright().__aenter__()\n",
    "browser = await p.chromium.launch(headless=False)\n",
    "context = await browser.new_context()\n",
    "page = await context.new_page()\n",
    "client = await context.new_cdp_session(page)"
   ]
  },
  {
   "cell_type": "code",
   "execution_count": 44,
   "metadata": {},
   "outputs": [
    {
     "data": {
      "text/plain": [
       "<Response url='https://jobs.careers.microsoft.com/global/en/job/1658879/Software-Engineering-II' request=<Request url='https://jobs.careers.microsoft.com/global/en/job/1658879/Software-Engineering-II' method='GET'>>"
      ]
     },
     "execution_count": 44,
     "metadata": {},
     "output_type": "execute_result"
    }
   ],
   "source": [
    "# Go to your desired URL\n",
    "desired_url = \"https://c3.ai/job-description/?gh_jid=6181786002\"\n",
    "await page.goto(desired_url)"
   ]
  },
  {
   "cell_type": "code",
   "execution_count": 45,
   "metadata": {},
   "outputs": [],
   "source": [
    "def get_file_path(url: str) -> str:\n",
    "    parsed_url = urllib.parse.urlparse(url)\n",
    "    domain = parsed_url.netloc\n",
    "    domain = domain.replace(\"www.\", \"\").replace(\".com\", \"\")\n",
    "    return f\"./{domain}.mhtml\""
   ]
  },
  {
   "cell_type": "code",
   "execution_count": 46,
   "metadata": {},
   "outputs": [
    {
     "name": "stdout",
     "output_type": "stream",
     "text": [
      "Page saved as MHTML at: /Users/asimshrestha/Documents/GitHub/bananalyzer/python/bananalyzer/data/ad142573-4dcb-4c1e-9a4d-6fa1fa818026/index.mhtml\n",
      "Page saved as MHTML at: /Users/asimshrestha/Documents/GitHub/bananalyzer/python/bananalyzer/data/ad142573-4dcb-4c1e-9a4d-6fa1fa818026/index.mhtml\n"
     ]
    }
   ],
   "source": [
    "# Capture page content as MHTML\n",
    "result = await client.send('Page.captureSnapshot', {'format': 'mhtml'})\n",
    "mhtml = result['data']\n",
    "\n",
    "# Create example values\n",
    "values = {\n",
    "    \"id\": str(uuid.uuid4()),\n",
    "    \"url\": desired_url,\n",
    "    \"source\": \"mhtml\",\n",
    "    \"domain\": \"UPDATE\",\n",
    "    \"subdomain\": \"UPDATE\",\n",
    "    \"type\": \"fetch\",\n",
    "    \"goal\": {},\n",
    "    \"evals\": [\n",
    "      {\n",
    "        \"type\": \"json_match\",\n",
    "        \"expected\": {}\n",
    "      }\n",
    "    ]\n",
    "  }\n",
    "\n",
    "# Write MHTML content to the specified file\n",
    "folder_path  = f\"./python/bananalyzer/data/{values['id']}\"\n",
    "os.makedirs(folder_path, exist_ok=True)\n",
    "file_path = os.path.join(folder_path, \"index.mhtml\")\n",
    "with open(file_path, 'w') as f:\n",
    "    f.write(mhtml)\n",
    "\n",
    "# Print the path to the console\n",
    "print(f'Page saved as MHTML at: {file_path}')\n",
    "file_path = os.path.join(folder_path, \"index.mhtml\")\n",
    "with open(file_path, 'w') as f:\n",
    "    f.write(mhtml)\n",
    "\n",
    "# Print the path to the console\n",
    "print(f'Page saved as MHTML at: {file_path}')\n",
    "\n",
    "# Save values to JSON file\n",
    "import json\n",
    "\n",
    "json_file_path = \"./python/bananalyzer/data/examples.json\"\n",
    "with open(json_file_path, 'r') as json_file:\n",
    "    data = json.load(json_file)\n",
    "\n",
    "data.append(values)\n",
    "\n",
    "with open(json_file_path, 'w') as json_file:\n",
    "    json.dump(data, json_file, indent=4)\n",
    "    json_file.write('\\n')\n",
    "# print(json.dumps(data, indent=4))\n"
   ]
  },
  {
   "cell_type": "code",
   "execution_count": null,
   "metadata": {},
   "outputs": [],
   "source": []
  }
 ],
 "metadata": {
  "kernelspec": {
   "display_name": "Python 3",
   "language": "python",
   "name": "python3"
  },
  "language_info": {
   "codemirror_mode": {
    "name": "ipython",
    "version": 3
   },
   "file_extension": ".py",
   "mimetype": "text/x-python",
   "name": "python",
   "nbconvert_exporter": "python",
   "pygments_lexer": "ipython3",
   "version": "3.11.6"
  }
 },
 "nbformat": 4,
 "nbformat_minor": 2
}
