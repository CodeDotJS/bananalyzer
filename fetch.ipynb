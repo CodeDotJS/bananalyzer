{
 "cells": [
  {
   "cell_type": "code",
   "execution_count": null,
   "metadata": {
    "collapsed": false,
    "is_executing": true
   },
   "outputs": [],
   "source": [
    "# Basic notebook to fetch the mhtml of a page and add it to example data"
   ]
  },
  {
   "cell_type": "code",
   "execution_count": 2,
   "metadata": {},
   "outputs": [],
   "source": [
    "import os\n",
    "import urllib.parse\n",
    "import uuid\n",
    "\n",
    "from playwright.async_api import async_playwright"
   ]
  },
  {
   "cell_type": "code",
   "execution_count": 3,
   "metadata": {},
   "outputs": [],
   "source": [
    "# Setup a playwright instance. We need to do this to access the dev tool functions\n",
    "p = await async_playwright().__aenter__()\n",
    "browser = await p.chromium.launch(headless=False)\n",
    "context = await browser.new_context()\n",
    "page = await context.new_page()\n",
    "client = await context.new_cdp_session(page)"
   ]
  },
  {
   "cell_type": "code",
   "execution_count": 21,
   "metadata": {},
   "outputs": [
    {
     "data": {
      "text/plain": [
       "<Response url='https://www.swedish.org/locations?lookup=87af2959065c4704b21c5064dada6bfd&lookupvalue=Urgent%20Care&page=1&radius=&term=' request=<Request url='https://www.swedish.org/locations?lookup=87af2959065c4704b21c5064dada6bfd&lookupvalue=Urgent%20Care&page=1&radius=&term=' method='GET'>>"
      ]
     },
     "execution_count": 21,
     "metadata": {},
     "output_type": "execute_result"
    }
   ],
   "source": [
    "# Go to your desired URL\n",
    "desired_url = \"https://www.swedish.org/locations?lookup=87af2959065c4704b21c5064dada6bfd&lookupvalue=Urgent%20Care&page=1&radius=&term=\"\n",
    "await page.goto(desired_url)"
   ]
  },
  {
   "cell_type": "code",
   "execution_count": 5,
   "metadata": {},
   "outputs": [],
   "source": [
    "def get_file_path(url: str) -> str:\n",
    "    parsed_url = urllib.parse.urlparse(url)\n",
    "    domain = parsed_url.netloc\n",
    "    domain = domain.replace(\"www.\", \"\").replace(\".com\", \"\")\n",
    "    return f\"./{domain}.mhtml\""
   ]
  },
  {
   "cell_type": "code",
   "execution_count": 22,
   "metadata": {},
   "outputs": [
    {
     "name": "stdout",
     "output_type": "stream",
     "text": [
      "Page saved as MHTML at: ./bananalyzer/data/ce4dede3-9fee-44ea-99a6-0137a9aa2db8/index.mhtml\n",
      "Page saved as MHTML at: ./bananalyzer/data/ce4dede3-9fee-44ea-99a6-0137a9aa2db8/index.mhtml\n"
     ]
    }
   ],
   "source": [
    "# Capture page content as MHTML\n",
    "result = await client.send('Page.captureSnapshot', {'format': 'mhtml'})\n",
    "mhtml = result['data']\n",
    "\n",
    "# Create example values\n",
    "values = {\n",
    "    \"id\": str(uuid.uuid4()),\n",
    "    \"url\": desired_url,\n",
    "    \"source\": \"mhtml\",\n",
    "    \"domain\": \"UPDATE\",\n",
    "    \"subdomain\": \"UPDATE\",\n",
    "    \"type\": \"fetch\",\n",
    "    \"goal\": {},\n",
    "    \"evals\": [\n",
    "      {\n",
    "        \"type\": \"json_match\",\n",
    "        \"expected\": {}\n",
    "      }\n",
    "    ]\n",
    "  }\n",
    "\n",
    "# Write MHTML content to the specified file\n",
    "folder_path  = f\"./bananalyzer/data/{values['id']}\"\n",
    "os.makedirs(folder_path, exist_ok=True)\n",
    "file_path = os.path.join(folder_path, \"index.mhtml\")\n",
    "with open(file_path, 'w') as f:\n",
    "    f.write(mhtml)\n",
    "\n",
    "# Print the path to the console\n",
    "print(f'Page saved as MHTML at: {file_path}')\n",
    "file_path = os.path.join(folder_path, \"index.mhtml\")\n",
    "with open(file_path, 'w') as f:\n",
    "    f.write(mhtml)\n",
    "\n",
    "# Print the path to the console\n",
    "print(f'Page saved as MHTML at: {file_path}')\n",
    "\n",
    "# Save values to JSON file\n",
    "import json\n",
    "\n",
    "json_file_path = \"./bananalyzer/data/examples.json\"\n",
    "with open(json_file_path, 'r') as json_file:\n",
    "    data = json.load(json_file)\n",
    "\n",
    "data.append(values)\n",
    "\n",
    "with open(json_file_path, 'w') as json_file:\n",
    "    json.dump(data, json_file, indent=4)\n",
    "    json_file.write('\\n')\n",
    "# print(json.dumps(data, indent=4))\n"
   ]
  },
  {
   "cell_type": "code",
   "execution_count": 19,
   "metadata": {},
   "outputs": [],
   "source": [
    "import os\n",
    "import shutil\n",
    "\"\"\"\n",
    "Utility to delete extra mhtml folders\n",
    "\"\"\"\n",
    "# Read in the examples.json and fetch all of the ids\n",
    "with open(json_file_path, 'r') as json_file:\n",
    "    data = json.load(json_file)\n",
    "ids = [item['id'] for item in data]\n",
    "\n",
    "# Iterate through the folders\n",
    "base_folder = './bananalyzer/data/'\n",
    "for folder in os.listdir(base_folder):\n",
    "    folder_path = os.path.join(base_folder, folder)\n",
    "    if folder not in ids and os.path.isdir(folder_path):\n",
    "        # If there is an id that is not present and the path is a directory, delete that folder\n",
    "        shutil.rmtree(folder_path)\n"
   ]
  },
  {
   "cell_type": "code",
   "execution_count": null,
   "metadata": {},
   "outputs": [],
   "source": []
  }
 ],
 "metadata": {
  "kernelspec": {
   "display_name": "Python 3",
   "language": "python",
   "name": "python3"
  },
  "language_info": {
   "codemirror_mode": {
    "name": "ipython",
    "version": 3
   },
   "file_extension": ".py",
   "mimetype": "text/x-python",
   "name": "python",
   "nbconvert_exporter": "python",
   "pygments_lexer": "ipython3",
   "version": "3.11.6"
  }
 },
 "nbformat": 4,
 "nbformat_minor": 2
}
